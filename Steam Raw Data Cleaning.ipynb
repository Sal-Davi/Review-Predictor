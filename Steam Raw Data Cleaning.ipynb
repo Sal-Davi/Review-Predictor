{
 "cells": [
  {
   "cell_type": "code",
   "execution_count": 0,
   "metadata": {
    "application/vnd.databricks.v1+cell": {
     "cellMetadata": {
      "byteLimit": 2048000,
      "rowLimit": 10000
     },
     "inputWidgets": {},
     "nuid": "3bbf497e-543f-4e8b-8bd6-3c84b48a4ce2",
     "showTitle": false,
     "title": ""
    }
   },
   "outputs": [
    {
     "output_type": "display_data",
     "data": {
      "application/vnd.databricks.v1+bamboolib_hint": "{\"pd.DataFrames\": [], \"version\": \"0.0.1\"}",
      "text/plain": []
     },
     "metadata": {},
     "output_type": "display_data"
    }
   ],
   "source": [
    "from pyspark.sql import SparkSession\n",
    "from pyspark.sql.functions import col, isnan, when, count, udf, explode, col\n",
    "import json \n",
    "import pandas as pd\n",
    "import requests\n",
    "import scipy\n",
    "import sklearn\n",
    "import seaborn as sns\n",
    "import matplotlib as mpl\n",
    "import plotly\n",
    "import boto3\n",
    "from pyspark.sql.functions import col, isnan, when, count, udf"
   ]
  },
  {
   "cell_type": "code",
   "execution_count": 0,
   "metadata": {
    "application/vnd.databricks.v1+cell": {
     "cellMetadata": {
      "byteLimit": 2048000,
      "rowLimit": 10000
     },
     "inputWidgets": {},
     "nuid": "67d32c99-62e8-46ca-9098-0a072ca58f03",
     "showTitle": false,
     "title": ""
    }
   },
   "outputs": [],
   "source": [
    "sc.setLogLevel(\"ERROR\")"
   ]
  },
  {
   "cell_type": "code",
   "execution_count": 0,
   "metadata": {
    "application/vnd.databricks.v1+cell": {
     "cellMetadata": {
      "byteLimit": 2048000,
      "rowLimit": 10000
     },
     "inputWidgets": {},
     "nuid": "a247acb9-649a-4b01-95f8-f832ddd75a31",
     "showTitle": false,
     "title": ""
    }
   },
   "outputs": [],
   "source": [
    "import os\n",
    "# To work with Amazon S3 storage, set the following variables using your AWS\n",
    "# Set the Region to where your files are stored in S3.\n",
    "access_key = ''\n",
    "secret_key = ''\n",
    "# Set the environment variables so boto3 can pick them up later\n",
    "os.environ['AWS_ACCESS_KEY_ID'] = access_key\n",
    "os.environ['AWS_SECRET_ACCESS_KEY'] = secret_key\n",
    "encoded_secret_key = secret_key.replace(\"/\", \"%2F\")\n",
    "aws_region = \"us-east-2\"\n",
    "# Update the Spark options to work with our AWS Credentials\n",
    "sc._jsc.hadoopConfiguration().set(\"fs.s3a.access.key\", access_key)\n",
    "sc._jsc.hadoopConfiguration().set(\"fs.s3a.secret.key\", secret_key)\n",
    "sc._jsc.hadoopConfiguration().set(\"fs.s3a.endpoint\", \"s3.\" + aws_region +\n",
    "\".amazonaws.com\")"
   ]
  },
  {
   "cell_type": "code",
   "execution_count": 0,
   "metadata": {
    "application/vnd.databricks.v1+cell": {
     "cellMetadata": {
      "byteLimit": 2048000,
      "rowLimit": 10000
     },
     "inputWidgets": {},
     "nuid": "14c7cd78-6457-4a9e-b935-add0ef672051",
     "showTitle": false,
     "title": ""
    }
   },
   "outputs": [
    {
     "output_type": "stream",
     "name": "stdout",
     "output_type": "stream",
     "text": [
      "+--------------------+-------------+------------------+---------+-----------------+----------------+--------------------+--------------+-----------------+-----------------------+-----------------+--------+-----------+--------+--------------------+---------------------------+-----------+---------------+-----------+------------------+----------------+-----------------------+-----------------+\n|              author|comment_count|developer_response| language|received_for_free|recommendationid|              review|steam_purchase|timestamp_created|timestamp_dev_responded|timestamp_updated|voted_up|votes_funny|votes_up| weighted_vote_score|written_during_early_access|last_played|num_games_owned|num_reviews|playtime_at_review|playtime_forever|playtime_last_two_weeks|          steamid|\n+--------------------+-------------+------------------+---------+-----------------+----------------+--------------------+--------------+-----------------+-----------------------+-----------------+--------+-----------+--------+--------------------+---------------------------+-----------+---------------+-----------+------------------+----------------+-----------------------+-----------------+\n|{1648398368, 56, ...|            0|              null|  english|            false|        70554926|best cs game ever...|          true|       1591736719|                   null|       1591736719|    true|          0|       1|0.523809552192687988|                      false| 1648398368|             56|          6|               862|            2064|                      0|76561198799152973|\n|{1592598293, 148,...|            0|              null|  turkish|            false|        70531487|                GOOD|          true|       1591701891|                   null|       1591701891|    true|          0|       0|                   0|                      false| 1592598293|            148|         82|               929|            2591|                      0|76561198166108585|\n|{1623886667, 86, ...|            0|              null|  english|            false|        70520785|               great|          true|       1591679779|                   null|       1591679779|    true|          0|       0|                   0|                      false| 1623886667|             86|         14|               330|             843|                      0|76561198845165531|\n|{1652287574, 26, ...|            0|              null|  italian|            false|        70485162|OK DELETED SCENES...|          true|       1591616643|                   null|       1591616643|    true|          0|       0|                   0|                      false| 1652287574|             26|         25|               161|            2343|                      0|76561198419718290|\n|{1592100281, 305,...|            0|              null|brazilian|            false|        70461581|Jogo curto mas é bom|          true|       1591567186|                   null|       1591567186|    true|          0|       0|                   0|                      false| 1592100281|            305|          5|              1310|            1340|                      0|76561198150124444|\n|{1591478980, 96, ...|            0|              null|  english|            false|        70409643|This game is more...|          true|       1591480222|                   null|       1591480222|    true|          0|       0|                   0|                      false| 1591478980|             96|         27|               168|             168|                      0|76561198110056670|\n|{1591561930, 82, ...|            0|              null|  english|            false|        70353142|It's like Call of...|          true|       1591391913|                   null|       1591391913|    true|          0|       0|                   0|                      false| 1591561930|             82|         19|               611|             882|                      0|76561198141530333|\n|{1591226408, 773,...|            0|              null|  english|            false|        70260734|[h1] ❤ Audience ❤...|          true|       1591226784|                   null|       1591226784|   false|          0|       0|0.410595595836639404|                      false| 1591226408|            773|        156|               694|             694|                      0|76561198172417955|\n+--------------------+-------------+------------------+---------+-----------------+----------------+--------------------+--------------+-----------------+-----------------------+-----------------+--------+-----------+--------+--------------------+---------------------------+-----------+---------------+-----------+------------------+----------------+-----------------------+-----------------+\nonly showing top 8 rows\n\n"
     ]
    }
   ],
   "source": [
    "sdf = spark.read.json(f\"s3://steam-reviews-rh/landing/reviews_100.json\")\n",
    "# Explode the \"reviews\" column and alias it as \"all_reviews\".  Then pick out all of the parts of the \"author\" document\n",
    "reviews_sdf = sdf.select(explode(col('reviews')).alias('all_reviews')).select(\"all_reviews.*\", \"author.last_played\", \"author.num_games_owned\",\"author.num_reviews\", \"author.playtime_at_review\", \"author.playtime_forever\", \"author.playtime_last_two_weeks\", \"author.steamid\")\n",
    "\n",
    "# Result should be a \"flattened\" record\n",
    "reviews_sdf.show(8)"
   ]
  },
  {
   "cell_type": "code",
   "execution_count": 0,
   "metadata": {
    "application/vnd.databricks.v1+cell": {
     "cellMetadata": {
      "byteLimit": 2048000,
      "rowLimit": 10000
     },
     "inputWidgets": {},
     "nuid": "650833de-0626-4c24-8172-666a6b778b2c",
     "showTitle": false,
     "title": ""
    }
   },
   "outputs": [
    {
     "output_type": "stream",
     "name": "stdout",
     "output_type": "stream",
     "text": [
      "+-------+---------+--------------------+\n|summary|   review| weighted_vote_score|\n+-------+---------+--------------------+\n|  count|    89398|               89398|\n|    min|         |                   0|\n|    max|󠀡󠀡 󠀡󠀡|0.975009799003601074|\n+-------+---------+--------------------+\n\n"
     ]
    }
   ],
   "source": [
    "# Look at the Review\n",
    "reviews_sdf.select(\"review\", \"weighted_vote_score\").summary(\"count\", \"min\", \"max\").show()"
   ]
  },
  {
   "cell_type": "code",
   "execution_count": 0,
   "metadata": {
    "application/vnd.databricks.v1+cell": {
     "cellMetadata": {
      "byteLimit": 2048000,
      "rowLimit": 10000
     },
     "inputWidgets": {},
     "nuid": "c7570a5d-a2b0-43f3-ac60-38280982580c",
     "showTitle": false,
     "title": ""
    }
   },
   "outputs": [
    {
     "output_type": "stream",
     "name": "stdout",
     "output_type": "stream",
     "text": [
      "+------+-------------------+-----------+\n|review|weighted_vote_score|num_reviews|\n+------+-------------------+-----------+\n|     0|                  0|          0|\n+------+-------------------+-----------+\n\n"
     ]
    }
   ],
   "source": [
    "# Check for revieew, weighted_vote_score, num_reviews that have null values\n",
    "reviews_sdf.select([count(when(isnan(c) | col(c).isNull(), c)).alias(c) for c in [\"review\", \"weighted_vote_score\",\"num_reviews\"]] ).show()"
   ]
  },
  {
   "cell_type": "code",
   "execution_count": 0,
   "metadata": {
    "application/vnd.databricks.v1+cell": {
     "cellMetadata": {
      "byteLimit": 2048000,
      "rowLimit": 10000
     },
     "inputWidgets": {},
     "nuid": "7206b348-45d7-414d-8433-a560985b9fa7",
     "showTitle": false,
     "title": ""
    }
   },
   "outputs": [
    {
     "output_type": "stream",
     "name": "stdout",
     "output_type": "stream",
     "text": [
      "+------+-------------+------------------+--------+-----------------+----------------+------+--------------+-----------------+-----------------------+-----------------+--------+-----------+--------+-------------------+---------------------------+-----------+---------------+-----------+------------------+----------------+-----------------------+-------+\n|author|comment_count|developer_response|language|received_for_free|recommendationid|review|steam_purchase|timestamp_created|timestamp_dev_responded|timestamp_updated|voted_up|votes_funny|votes_up|weighted_vote_score|written_during_early_access|last_played|num_games_owned|num_reviews|playtime_at_review|playtime_forever|playtime_last_two_weeks|steamid|\n+------+-------------+------------------+--------+-----------------+----------------+------+--------------+-----------------+-----------------------+-----------------+--------+-----------+--------+-------------------+---------------------------+-----------+---------------+-----------+------------------+----------------+-----------------------+-------+\n|     0|            0|             87749|       0|                0|               0|     0|             0|                0|                  87749|                0|       0|          0|       0|                  0|                          0|          0|              0|          0|                87|               0|                      0|      0|\n+------+-------------+------------------+--------+-----------------+----------------+------+--------------+-----------------+-----------------------+-----------------+--------+-----------+--------+-------------------+---------------------------+-----------+---------------+-----------+------------------+----------------+-----------------------+-------+\n\n"
     ]
    }
   ],
   "source": [
    "from pyspark.sql import functions as F\n",
    "#checking for null values\n",
    "\n",
    "null_counts = reviews_sdf.select([F.col(column).isNull().alias(column) for column in reviews_sdf.columns])\n",
    "\n",
    "# Count the total number null values in every column\n",
    "null_counts_row = null_counts.agg(*[F.count(F.when(F.col(column), column)).alias(column) for column in null_counts.columns])\n",
    "\n",
    "null_counts_row.show()\n",
    "\n"
   ]
  },
  {
   "cell_type": "code",
   "execution_count": 0,
   "metadata": {
    "application/vnd.databricks.v1+cell": {
     "cellMetadata": {
      "byteLimit": 2048000,
      "rowLimit": 10000
     },
     "inputWidgets": {},
     "nuid": "342217c3-5b82-4013-a715-2e1c15193f29",
     "showTitle": false,
     "title": ""
    }
   },
   "outputs": [],
   "source": [
    "#dropping the columns steamid, written_during_early_access, steam_purchase & votes_funny.\n",
    "#These columns are columns not useful for later engineering & modeling processes\n",
    "columns_to_drop = ['written_during_early_access', 'steam_purchase', 'votes_funny', 'developer_response', 'timestamp_dev_responded']\n",
    "reviews_sdf = reviews_sdf.drop(*columns_to_drop)\n"
   ]
  },
  {
   "cell_type": "code",
   "execution_count": 0,
   "metadata": {
    "application/vnd.databricks.v1+cell": {
     "cellMetadata": {
      "byteLimit": 2048000,
      "rowLimit": 10000
     },
     "inputWidgets": {},
     "nuid": "cc0d723e-4f73-455a-bbda-66080ce289d4",
     "showTitle": false,
     "title": ""
    }
   },
   "outputs": [
    {
     "output_type": "stream",
     "name": "stdout",
     "output_type": "stream",
     "text": [
      "+--------------------+-------------+------------------+--------+-----------------+----------------+--------------------+-----------------+-----------------------+-----------------+--------+--------+--------------------+-----------+---------------+-----------+------------------+----------------+-----------------------+\n|              author|comment_count|developer_response|language|received_for_free|recommendationid|              review|timestamp_created|timestamp_dev_responded|timestamp_updated|voted_up|votes_up| weighted_vote_score|last_played|num_games_owned|num_reviews|playtime_at_review|playtime_forever|playtime_last_two_weeks|\n+--------------------+-------------+------------------+--------+-----------------+----------------+--------------------+-----------------+-----------------------+-----------------+--------+--------+--------------------+-----------+---------------+-----------+------------------+----------------+-----------------------+\n|{1648398368, 56, ...|            0|              null| english|            false|        70554926|best cs game ever...|       1591736719|                   null|       1591736719|    true|       1|0.523809552192687988| 1648398368|             56|          6|               862|            2064|                      0|\n|{1623886667, 86, ...|            0|              null| english|            false|        70520785|               great|       1591679779|                   null|       1591679779|    true|       0|                   0| 1623886667|             86|         14|               330|             843|                      0|\n|{1591478980, 96, ...|            0|              null| english|            false|        70409643|This game is more...|       1591480222|                   null|       1591480222|    true|       0|                   0| 1591478980|             96|         27|               168|             168|                      0|\n|{1591561930, 82, ...|            0|              null| english|            false|        70353142|It's like Call of...|       1591391913|                   null|       1591391913|    true|       0|                   0| 1591561930|             82|         19|               611|             882|                      0|\n|{1591226408, 773,...|            0|              null| english|            false|        70260734|[h1] ❤ Audience ❤...|       1591226784|                   null|       1591226784|   false|       0|0.410595595836639404| 1591226408|            773|        156|               694|             694|                      0|\n|{1648692173, 53, ...|            0|              null| english|            false|        70259945|This game is real...|       1591225159|                   null|       1591225159|    true|       0|                   0| 1648692173|             53|          2|               472|             909|                      0|\n|{1628724050, 217,...|            0|              null| english|            false|        70251604|It's pretty good ...|       1591210150|                   null|       1591210150|    true|       0|                   0| 1628724050|            217|         37|               507|             508|                      0|\n|{1591190027, 104,...|            0|              null| english|            false|        70238692|Bring backs so ma...|       1591190629|                   null|       1591190629|    true|       0|                   0| 1591190027|            104|          4|              2014|            2014|                      0|\n|{1627826728, 95, ...|            0|              null| english|            false|        70140882|the same as the n...|       1591010351|                   null|       1591010351|    true|       0|                   0| 1627826728|             95|         90|               314|            1227|                      0|\n|{1612547155, 31, ...|            0|              null| english|            false|        69903443|It's actually pre...|       1590604665|                   null|       1590604665|    true|       0|                   0| 1612547155|             31|         10|              1177|            2111|                      0|\n|{1623854334, 11, ...|            0|              null| english|            false|        69828145|         pretty sick|       1590485930|                   null|       1590485930|    true|       0|0.476190477609634399| 1623854334|             11|          3|               410|             474|                      0|\n|{1573710600, 140,...|            0|              null| english|            false|        69823018| its fun but deleted|       1590476801|                   null|       1590476801|    true|       0|                   0| 1573710600|            140|        111|               381|             381|                      0|\n|{1643038615, 101,...|            0|              null| english|            false|        69727360|                best|       1590329029|                   null|       1590329029|    true|       0|                   0| 1643038615|            101|         46|               630|             630|                      0|\n|{1565434698, 45, ...|            0|              null| english|            false|        69660113|           Nice game|       1590233631|                   null|       1590233631|    true|       0|                   0| 1565434698|             45|         19|               299|             299|                      0|\n|{1593353991, 47, ...|            0|              null| english|            false|        69654882|     Good ol classic|       1590226154|                   null|       1590226154|    true|       0|                   0| 1593353991|             47|          1|               483|             838|                      0|\n|{1630133916, 59, ...|            0|              null| english|            false|        69632475|why the npc rushi...|       1590189331|                   null|       1590189331|    true|       0|                   0| 1630133916|             59|         24|               347|             715|                      0|\n|{1658378375, 65, ...|            0|              null| english|            false|        69525228|           Its great|       1590041010|                   null|       1590041010|    true|       0|                   0| 1658378375|             65|         15|               675|             784|                      0|\n|{1656691688, 130,...|            0|              null| english|            false|        69492869|    ghetto black ops|       1590003982|                   null|       1656690787|    true|       0|                   0| 1656691688|            130|         58|               374|             378|                      0|\n|{1590360474, 995,...|            0|              null| english|            false|        69462396|kinda fun get for...|       1589959230|                   null|       1589959230|    true|       0|                   0| 1590360474|            995|         55|               702|            1240|                      0|\n|{1591922607, 4, 5...|            0|              null| english|            false|        69402211| pretty good game :)|       1589863701|                   null|       1589863701|    true|       1|0.520547926425933838| 1591922607|              4|          5|              6820|           12609|                      0|\n+--------------------+-------------+------------------+--------+-----------------+----------------+--------------------+-----------------+-----------------------+-----------------+--------+--------+--------------------+-----------+---------------+-----------+------------------+----------------+-----------------------+\nonly showing top 20 rows\n\n"
     ]
    }
   ],
   "source": [
    "reviews_sdf = reviews_sdf.filter(col(\"language\") == \"english\")\n",
    "\n",
    "# Show the resulting DataFrame\n",
    "reviews_sdf.show()"
   ]
  },
  {
   "cell_type": "code",
   "execution_count": 0,
   "metadata": {
    "application/vnd.databricks.v1+cell": {
     "cellMetadata": {
      "byteLimit": 2048000,
      "rowLimit": 10000
     },
     "inputWidgets": {},
     "nuid": "31066cda-f14b-4875-8ad2-8f7415c9dbc0",
     "showTitle": false,
     "title": ""
    }
   },
   "outputs": [
    {
     "output_type": "stream",
     "name": "stdout",
     "output_type": "stream",
     "text": [
      "+--------------------+-------------+------------------+--------+-----------------+----------------+--------------------+-----------------+-----------------------+-----------------+--------+--------+--------------------+-----------+---------------+-----------+------------------+----------------+-----------------------+\n|              author|comment_count|developer_response|language|received_for_free|recommendationid|              review|timestamp_created|timestamp_dev_responded|timestamp_updated|voted_up|votes_up| weighted_vote_score|last_played|num_games_owned|num_reviews|playtime_at_review|playtime_forever|playtime_last_two_weeks|\n+--------------------+-------------+------------------+--------+-----------------+----------------+--------------------+-----------------+-----------------------+-----------------+--------+--------+--------------------+-----------+---------------+-----------+------------------+----------------+-----------------------+\n|{1648398368, 56, ...|            0|              null| english|            false|        70554926|best cs game ever...|       1591736719|                   null|       1591736719|    true|       1|0.523809552192687988| 1648398368|             56|          6|               862|            2064|                      0|\n|{1623886667, 86, ...|            0|              null| english|            false|        70520785|               great|       1591679779|                   null|       1591679779|    true|       0|                   0| 1623886667|             86|         14|               330|             843|                      0|\n|{1591478980, 96, ...|            0|              null| english|            false|        70409643|This game is more...|       1591480222|                   null|       1591480222|    true|       0|                   0| 1591478980|             96|         27|               168|             168|                      0|\n|{1591561930, 82, ...|            0|              null| english|            false|        70353142|It's like Call of...|       1591391913|                   null|       1591391913|    true|       0|                   0| 1591561930|             82|         19|               611|             882|                      0|\n|{1591226408, 773,...|            0|              null| english|            false|        70260734|[h1] ❤ Audience ❤...|       1591226784|                   null|       1591226784|   false|       0|0.410595595836639404| 1591226408|            773|        156|               694|             694|                      0|\n|{1648692173, 53, ...|            0|              null| english|            false|        70259945|This game is real...|       1591225159|                   null|       1591225159|    true|       0|                   0| 1648692173|             53|          2|               472|             909|                      0|\n|{1628724050, 217,...|            0|              null| english|            false|        70251604|It's pretty good ...|       1591210150|                   null|       1591210150|    true|       0|                   0| 1628724050|            217|         37|               507|             508|                      0|\n|{1591190027, 104,...|            0|              null| english|            false|        70238692|Bring backs so ma...|       1591190629|                   null|       1591190629|    true|       0|                   0| 1591190027|            104|          4|              2014|            2014|                      0|\n|{1627826728, 95, ...|            0|              null| english|            false|        70140882|the same as the n...|       1591010351|                   null|       1591010351|    true|       0|                   0| 1627826728|             95|         90|               314|            1227|                      0|\n|{1612547155, 31, ...|            0|              null| english|            false|        69903443|It's actually pre...|       1590604665|                   null|       1590604665|    true|       0|                   0| 1612547155|             31|         10|              1177|            2111|                      0|\n+--------------------+-------------+------------------+--------+-----------------+----------------+--------------------+-----------------+-----------------------+-----------------+--------+--------+--------------------+-----------+---------------+-----------+------------------+----------------+-----------------------+\nonly showing top 10 rows\n\n"
     ]
    }
   ],
   "source": [
    "# Replace null values with 0 in the specified columns\n",
    "reviews_sdf = reviews_sdf.fillna(0, subset=['playtime_at_review', 'playtime_last_two_weeks', 'last_played'])\n",
    "reviews_sdf.show(10)"
   ]
  },
  {
   "cell_type": "code",
   "execution_count": 0,
   "metadata": {
    "application/vnd.databricks.v1+cell": {
     "cellMetadata": {
      "byteLimit": 2048000,
      "rowLimit": 10000
     },
     "inputWidgets": {},
     "nuid": "334c0207-5ace-4b6a-a7ce-43eb81f0853d",
     "showTitle": false,
     "title": ""
    }
   },
   "outputs": [
    {
     "output_type": "stream",
     "name": "stdout",
     "output_type": "stream",
     "text": [
      "+------+-------------+------------------+--------+-----------------+----------------+------+-----------------+-----------------------+-----------------+--------+--------+-------------------+-----------+---------------+-----------+------------------+----------------+-----------------------+\n|author|comment_count|developer_response|language|received_for_free|recommendationid|review|timestamp_created|timestamp_dev_responded|timestamp_updated|voted_up|votes_up|weighted_vote_score|last_played|num_games_owned|num_reviews|playtime_at_review|playtime_forever|playtime_last_two_weeks|\n+------+-------------+------------------+--------+-----------------+----------------+------+-----------------+-----------------------+-----------------+--------+--------+-------------------+-----------+---------------+-----------+------------------+----------------+-----------------------+\n|     0|            0|             47192|       0|                0|               0|     0|                0|                  47192|                0|       0|       0|                  0|          0|              0|          0|                 0|               0|                      0|\n+------+-------------+------------------+--------+-----------------+----------------+------+-----------------+-----------------------+-----------------+--------+--------+-------------------+-----------+---------------+-----------+------------------+----------------+-----------------------+\n\n"
     ]
    }
   ],
   "source": [
    "\n",
    "null_counts = reviews_sdf.select([F.col(column).isNull().alias(column) for column in reviews_sdf.columns])\n",
    "\n",
    "# Count the total number null values in every column\n",
    "null_counts_row = null_counts.agg(*[F.count(F.when(F.col(column), column)).alias(column) for column in null_counts.columns])\n",
    "\n",
    "null_counts_row.show()\n"
   ]
  },
  {
   "cell_type": "code",
   "execution_count": 0,
   "metadata": {
    "application/vnd.databricks.v1+cell": {
     "cellMetadata": {
      "byteLimit": 2048000,
      "rowLimit": 10000
     },
     "inputWidgets": {},
     "nuid": "64865c17-ae55-4a72-9f76-0f629b7e2188",
     "showTitle": false,
     "title": ""
    }
   },
   "outputs": [
    {
     "output_type": "stream",
     "name": "stdout",
     "output_type": "stream",
     "text": [
      "+--------------------+-------------+------------------+--------+-----------------+----------------+--------------------+-----------------+-----------------------+-----------------+--------+--------+--------------------+-----------+---------------+-----------+------------------+----------------+-----------------------+\n|              author|comment_count|developer_response|language|received_for_free|recommendationid|              review|timestamp_created|timestamp_dev_responded|timestamp_updated|voted_up|votes_up| weighted_vote_score|last_played|num_games_owned|num_reviews|playtime_at_review|playtime_forever|playtime_last_two_weeks|\n+--------------------+-------------+------------------+--------+-----------------+----------------+--------------------+-----------------+-----------------------+-----------------+--------+--------+--------------------+-----------+---------------+-----------+------------------+----------------+-----------------------+\n|{1648398368, 56, ...|            0|              null| english|            false|        70554926|best cs game ever...|       1591736719|                   null|       1591736719|    true|       1|0.523809552192687988| 1648398368|             56|          6|               862|            2064|                      0|\n|{1623886667, 86, ...|            0|              null| english|            false|        70520785|               great|       1591679779|                   null|       1591679779|    true|       0|                   0| 1623886667|             86|         14|               330|             843|                      0|\n|{1591478980, 96, ...|            0|              null| english|            false|        70409643|This game is more...|       1591480222|                   null|       1591480222|    true|       0|                   0| 1591478980|             96|         27|               168|             168|                      0|\n|{1591561930, 82, ...|            0|              null| english|            false|        70353142|It's like Call of...|       1591391913|                   null|       1591391913|    true|       0|                   0| 1591561930|             82|         19|               611|             882|                      0|\n|{1591226408, 773,...|            0|              null| english|            false|        70260734|[h1] ❤ Audience ❤...|       1591226784|                   null|       1591226784|   false|       0|0.410595595836639404| 1591226408|            773|        156|               694|             694|                      0|\n|{1648692173, 53, ...|            0|              null| english|            false|        70259945|This game is real...|       1591225159|                   null|       1591225159|    true|       0|                   0| 1648692173|             53|          2|               472|             909|                      0|\n|{1628724050, 217,...|            0|              null| english|            false|        70251604|It's pretty good ...|       1591210150|                   null|       1591210150|    true|       0|                   0| 1628724050|            217|         37|               507|             508|                      0|\n|{1591190027, 104,...|            0|              null| english|            false|        70238692|Bring backs so ma...|       1591190629|                   null|       1591190629|    true|       0|                   0| 1591190027|            104|          4|              2014|            2014|                      0|\n|{1627826728, 95, ...|            0|              null| english|            false|        70140882|the same as the n...|       1591010351|                   null|       1591010351|    true|       0|                   0| 1627826728|             95|         90|               314|            1227|                      0|\n|{1612547155, 31, ...|            0|              null| english|            false|        69903443|It's actually pre...|       1590604665|                   null|       1590604665|    true|       0|                   0| 1612547155|             31|         10|              1177|            2111|                      0|\n+--------------------+-------------+------------------+--------+-----------------+----------------+--------------------+-----------------+-----------------------+-----------------+--------+--------+--------------------+-----------+---------------+-----------+------------------+----------------+-----------------------+\nonly showing top 10 rows\n\n"
     ]
    }
   ],
   "source": [
    "reviews_sdf.show(10)"
   ]
  },
  {
   "cell_type": "code",
   "execution_count": 0,
   "metadata": {
    "application/vnd.databricks.v1+cell": {
     "cellMetadata": {
      "byteLimit": 2048000,
      "rowLimit": 10000
     },
     "inputWidgets": {},
     "nuid": "5d92419e-7cd5-4b99-a9b1-c329453f00f2",
     "showTitle": false,
     "title": ""
    }
   },
   "outputs": [],
   "source": [
    "# Write to a Parquet file in raw folder\n",
    "# Write to a Parquet file in raw folder\n",
    "# Change this to your bucket\n",
    "target_bucket = \"steam-reviews-sd\"  \n",
    "# Make sure you have a /raw folder in the bucket\n",
    "target_folder = \"raw\"            \n",
    "target_filename = \"steam_reviews.parquet\"\n",
    "\n",
    "# Assemble the file path so it looks like s3a://steam-reviews-rh/raw/steam_reviews.parquet\n",
    "output_file_path=f\"s3a://steam-reviews-sd/raw/cleaned_steam_reviews.parquet\"\n",
    "# Write the  data to the Parquet file.  Note it will be saved in multiple partitions\n",
    "reviews_sdf.write.mode(\"overwrite\").parquet(output_file_path)"
   ]
  }
 ],
 "metadata": {
  "application/vnd.databricks.v1+notebook": {
   "dashboards": [],
   "language": "python",
   "notebookMetadata": {
    "pythonIndentUnit": 4
   },
   "notebookName": "Steam Raw Data Cleaning",
   "widgets": {}
  }
 },
 "nbformat": 4,
 "nbformat_minor": 0
}
